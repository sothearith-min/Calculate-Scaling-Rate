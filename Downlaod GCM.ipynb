{
 "cells": [
  {
   "cell_type": "code",
   "execution_count": 1,
   "metadata": {},
   "outputs": [
    {
     "name": "stderr",
     "output_type": "stream",
     "text": [
      "c:\\Users\\USER2\\anaconda3\\Lib\\site-packages\\pandas\\core\\arrays\\masked.py:60: UserWarning: Pandas requires version '1.3.6' or newer of 'bottleneck' (version '1.3.5' currently installed).\n",
      "  from pandas.core import (\n"
     ]
    }
   ],
   "source": [
    "from pyesgf.search import SearchConnection\n",
    "import os\n",
    "import pandas as pd\n",
    "import requests\n",
    "from tqdm import tqdm\n",
    "os.environ[\"ESGF_PYCLIENT_NO_FACETS_STAR_WARNING\"] = \"on\""
   ]
  },
  {
   "cell_type": "code",
   "execution_count": 2,
   "metadata": {},
   "outputs": [],
   "source": [
    "conn = SearchConnection('https://esgf-node.llnl.gov/esg-search', distrib=True)"
   ]
  },
  {
   "cell_type": "code",
   "execution_count": 3,
   "metadata": {},
   "outputs": [],
   "source": [
    "query = conn.new_context(\n",
    "    latest = True,\n",
    "    project='CMIP6',\n",
    "    source_id= 'EC-Earth3',\n",
    "    experiment_id='ssp126',\n",
    "    variable_id= 'hur',\n",
    "    table_id=\"day\",\n",
    "    member_id='r1i1p1f1',\n",
    "    data_node='esgf-data1.llnl.gov')"
   ]
  },
  {
   "cell_type": "code",
   "execution_count": 4,
   "metadata": {},
   "outputs": [],
   "source": [
    "results = query.search()"
   ]
  },
  {
   "cell_type": "code",
   "execution_count": 5,
   "metadata": {},
   "outputs": [
    {
     "name": "stdout",
     "output_type": "stream",
     "text": [
      "0\n",
      "1\n",
      "2\n"
     ]
    }
   ],
   "source": [
    "#glitchy work-around\n",
    "for i in range(0,2):\n",
    "    try:\n",
    "        hit = results[0].file_context().search()\n",
    "        print(i)\n",
    "    except:\n",
    "        continue"
   ]
  },
  {
   "cell_type": "code",
   "execution_count": 15,
   "metadata": {},
   "outputs": [
    {
     "data": {
      "text/plain": [
       "<map at 0x1a00a531db0>"
      ]
     },
     "execution_count": 15,
     "metadata": {},
     "output_type": "execute_result"
    }
   ],
   "source": [
    "files = map(lambda f : {'filename': f.filename, 'url': f.download_url}, hit)\n",
    "files"
   ]
  },
  {
   "cell_type": "code",
   "execution_count": 16,
   "metadata": {},
   "outputs": [],
   "source": [
    "files = list(files)"
   ]
  },
  {
   "cell_type": "code",
   "execution_count": 17,
   "metadata": {},
   "outputs": [],
   "source": [
    "for i in range(2, len(results)):\n",
    "    files.extend(list(map(lambda f : {'filename': f.filename, 'url': f.download_url},\n",
    "                               results[i].file_context().search())))"
   ]
  },
  {
   "cell_type": "code",
   "execution_count": 18,
   "metadata": {},
   "outputs": [
    {
     "data": {
      "text/html": [
       "<div>\n",
       "<style scoped>\n",
       "    .dataframe tbody tr th:only-of-type {\n",
       "        vertical-align: middle;\n",
       "    }\n",
       "\n",
       "    .dataframe tbody tr th {\n",
       "        vertical-align: top;\n",
       "    }\n",
       "\n",
       "    .dataframe thead th {\n",
       "        text-align: right;\n",
       "    }\n",
       "</style>\n",
       "<table border=\"1\" class=\"dataframe\">\n",
       "  <thead>\n",
       "    <tr style=\"text-align: right;\">\n",
       "      <th></th>\n",
       "      <th>filename</th>\n",
       "      <th>url</th>\n",
       "    </tr>\n",
       "  </thead>\n",
       "  <tbody>\n",
       "    <tr>\n",
       "      <th>0</th>\n",
       "      <td>hur_day_EC-Earth3_ssp126_r1i1p1f1_gr_20150101-...</td>\n",
       "      <td>https://esgf-data1.llnl.gov/thredds/fileServer...</td>\n",
       "    </tr>\n",
       "    <tr>\n",
       "      <th>1</th>\n",
       "      <td>hur_day_EC-Earth3_ssp126_r1i1p1f1_gr_20160101-...</td>\n",
       "      <td>https://esgf-data1.llnl.gov/thredds/fileServer...</td>\n",
       "    </tr>\n",
       "    <tr>\n",
       "      <th>2</th>\n",
       "      <td>hur_day_EC-Earth3_ssp126_r1i1p1f1_gr_20170101-...</td>\n",
       "      <td>https://esgf-data1.llnl.gov/thredds/fileServer...</td>\n",
       "    </tr>\n",
       "    <tr>\n",
       "      <th>3</th>\n",
       "      <td>hur_day_EC-Earth3_ssp126_r1i1p1f1_gr_20180101-...</td>\n",
       "      <td>https://esgf-data1.llnl.gov/thredds/fileServer...</td>\n",
       "    </tr>\n",
       "    <tr>\n",
       "      <th>4</th>\n",
       "      <td>hur_day_EC-Earth3_ssp126_r1i1p1f1_gr_20190101-...</td>\n",
       "      <td>https://esgf-data1.llnl.gov/thredds/fileServer...</td>\n",
       "    </tr>\n",
       "    <tr>\n",
       "      <th>...</th>\n",
       "      <td>...</td>\n",
       "      <td>...</td>\n",
       "    </tr>\n",
       "    <tr>\n",
       "      <th>81</th>\n",
       "      <td>hur_day_EC-Earth3_ssp126_r1i1p1f1_gr_20960101-...</td>\n",
       "      <td>https://esgf-data1.llnl.gov/thredds/fileServer...</td>\n",
       "    </tr>\n",
       "    <tr>\n",
       "      <th>82</th>\n",
       "      <td>hur_day_EC-Earth3_ssp126_r1i1p1f1_gr_20970101-...</td>\n",
       "      <td>https://esgf-data1.llnl.gov/thredds/fileServer...</td>\n",
       "    </tr>\n",
       "    <tr>\n",
       "      <th>83</th>\n",
       "      <td>hur_day_EC-Earth3_ssp126_r1i1p1f1_gr_20980101-...</td>\n",
       "      <td>https://esgf-data1.llnl.gov/thredds/fileServer...</td>\n",
       "    </tr>\n",
       "    <tr>\n",
       "      <th>84</th>\n",
       "      <td>hur_day_EC-Earth3_ssp126_r1i1p1f1_gr_20990101-...</td>\n",
       "      <td>https://esgf-data1.llnl.gov/thredds/fileServer...</td>\n",
       "    </tr>\n",
       "    <tr>\n",
       "      <th>85</th>\n",
       "      <td>hur_day_EC-Earth3_ssp126_r1i1p1f1_gr_21000101-...</td>\n",
       "      <td>https://esgf-data1.llnl.gov/thredds/fileServer...</td>\n",
       "    </tr>\n",
       "  </tbody>\n",
       "</table>\n",
       "<p>86 rows × 2 columns</p>\n",
       "</div>"
      ],
      "text/plain": [
       "                                             filename  \\\n",
       "0   hur_day_EC-Earth3_ssp126_r1i1p1f1_gr_20150101-...   \n",
       "1   hur_day_EC-Earth3_ssp126_r1i1p1f1_gr_20160101-...   \n",
       "2   hur_day_EC-Earth3_ssp126_r1i1p1f1_gr_20170101-...   \n",
       "3   hur_day_EC-Earth3_ssp126_r1i1p1f1_gr_20180101-...   \n",
       "4   hur_day_EC-Earth3_ssp126_r1i1p1f1_gr_20190101-...   \n",
       "..                                                ...   \n",
       "81  hur_day_EC-Earth3_ssp126_r1i1p1f1_gr_20960101-...   \n",
       "82  hur_day_EC-Earth3_ssp126_r1i1p1f1_gr_20970101-...   \n",
       "83  hur_day_EC-Earth3_ssp126_r1i1p1f1_gr_20980101-...   \n",
       "84  hur_day_EC-Earth3_ssp126_r1i1p1f1_gr_20990101-...   \n",
       "85  hur_day_EC-Earth3_ssp126_r1i1p1f1_gr_21000101-...   \n",
       "\n",
       "                                                  url  \n",
       "0   https://esgf-data1.llnl.gov/thredds/fileServer...  \n",
       "1   https://esgf-data1.llnl.gov/thredds/fileServer...  \n",
       "2   https://esgf-data1.llnl.gov/thredds/fileServer...  \n",
       "3   https://esgf-data1.llnl.gov/thredds/fileServer...  \n",
       "4   https://esgf-data1.llnl.gov/thredds/fileServer...  \n",
       "..                                                ...  \n",
       "81  https://esgf-data1.llnl.gov/thredds/fileServer...  \n",
       "82  https://esgf-data1.llnl.gov/thredds/fileServer...  \n",
       "83  https://esgf-data1.llnl.gov/thredds/fileServer...  \n",
       "84  https://esgf-data1.llnl.gov/thredds/fileServer...  \n",
       "85  https://esgf-data1.llnl.gov/thredds/fileServer...  \n",
       "\n",
       "[86 rows x 2 columns]"
      ]
     },
     "execution_count": 18,
     "metadata": {},
     "output_type": "execute_result"
    }
   ],
   "source": [
    "files = pd.DataFrame.from_dict(files)\n",
    "files"
   ]
  },
  {
   "cell_type": "code",
   "execution_count": 19,
   "metadata": {},
   "outputs": [],
   "source": [
    "def download(url, filename):\n",
    "    print(\"Downloading \", filename)\n",
    "    r = requests.get(url, stream=True)\n",
    "    total_size, block_size = int(r.headers.get('content-length', 0)), 1024\n",
    "    with open(filename, 'wb') as f:\n",
    "        for data in tqdm(r.iter_content(block_size),\n",
    "                         total=total_size//block_size,\n",
    "                         unit='KiB', unit_scale=True):\n",
    "            f.write(data)\n",
    "\n",
    "    if total_size != 0 and os.path.getsize(filename) != total_size:\n",
    "        print(\"Downloaded size does not match expected size!\\n\",\n",
    "              \"FYI, the status code was \", r.status_code)"
   ]
  },
  {
   "cell_type": "code",
   "execution_count": 14,
   "metadata": {},
   "outputs": [
    {
     "name": "stdout",
     "output_type": "stream",
     "text": [
      "Downloading  hur_day_EC-Earth3_ssp126_r1i1p1f1_gr_20820101-20821231.nc\n"
     ]
    },
    {
     "name": "stderr",
     "output_type": "stream",
     "text": [
      "1.31MKiB [14:32, 1.50kKiB/s]                          \n"
     ]
    },
    {
     "name": "stdout",
     "output_type": "stream",
     "text": [
      "Downloading  hur_day_EC-Earth3_ssp126_r1i1p1f1_gr_20830101-20831231.nc\n"
     ]
    },
    {
     "name": "stderr",
     "output_type": "stream",
     "text": [
      "1.31MKiB [14:49, 1.47kKiB/s]                          \n"
     ]
    },
    {
     "name": "stdout",
     "output_type": "stream",
     "text": [
      "Downloading  hur_day_EC-Earth3_ssp126_r1i1p1f1_gr_20840101-20841231.nc\n"
     ]
    },
    {
     "name": "stderr",
     "output_type": "stream",
     "text": [
      "1.31MKiB [14:52, 1.47kKiB/s]                          \n"
     ]
    },
    {
     "name": "stdout",
     "output_type": "stream",
     "text": [
      "Downloading  hur_day_EC-Earth3_ssp126_r1i1p1f1_gr_20850101-20851231.nc\n"
     ]
    },
    {
     "name": "stderr",
     "output_type": "stream",
     "text": [
      "1.31MKiB [15:17, 1.43kKiB/s]                          \n"
     ]
    },
    {
     "name": "stdout",
     "output_type": "stream",
     "text": [
      "Downloading  hur_day_EC-Earth3_ssp126_r1i1p1f1_gr_20860101-20861231.nc\n"
     ]
    },
    {
     "name": "stderr",
     "output_type": "stream",
     "text": [
      "1.31MKiB [15:11, 1.44kKiB/s]                          \n"
     ]
    },
    {
     "name": "stdout",
     "output_type": "stream",
     "text": [
      "Downloading  hur_day_EC-Earth3_ssp126_r1i1p1f1_gr_20870101-20871231.nc\n"
     ]
    },
    {
     "name": "stderr",
     "output_type": "stream",
     "text": [
      "1.31MKiB [15:32, 1.40kKiB/s]                          \n"
     ]
    },
    {
     "name": "stdout",
     "output_type": "stream",
     "text": [
      "Downloading  hur_day_EC-Earth3_ssp126_r1i1p1f1_gr_20880101-20881231.nc\n"
     ]
    },
    {
     "name": "stderr",
     "output_type": "stream",
     "text": [
      "1.31MKiB [15:21, 1.42kKiB/s]                          \n"
     ]
    },
    {
     "name": "stdout",
     "output_type": "stream",
     "text": [
      "Downloading  hur_day_EC-Earth3_ssp126_r1i1p1f1_gr_20890101-20891231.nc\n"
     ]
    },
    {
     "name": "stderr",
     "output_type": "stream",
     "text": [
      "1.31MKiB [16:04, 1.36kKiB/s]                          \n"
     ]
    },
    {
     "name": "stdout",
     "output_type": "stream",
     "text": [
      "Downloading  hur_day_EC-Earth3_ssp126_r1i1p1f1_gr_20900101-20901231.nc\n"
     ]
    },
    {
     "name": "stderr",
     "output_type": "stream",
     "text": [
      "1.31MKiB [15:43, 1.39kKiB/s]                          \n"
     ]
    }
   ],
   "source": [
    "for i in range(67, 76,1):\n",
    "    download(files.url[i],files.filename[i])"
   ]
  }
 ],
 "metadata": {
  "kernelspec": {
   "display_name": "base",
   "language": "python",
   "name": "python3"
  },
  "language_info": {
   "codemirror_mode": {
    "name": "ipython",
    "version": 3
   },
   "file_extension": ".py",
   "mimetype": "text/x-python",
   "name": "python",
   "nbconvert_exporter": "python",
   "pygments_lexer": "ipython3",
   "version": "3.11.4"
  }
 },
 "nbformat": 4,
 "nbformat_minor": 2
}
